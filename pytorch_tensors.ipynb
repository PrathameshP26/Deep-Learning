{
 "cells": [
  {
   "cell_type": "code",
   "execution_count": 1,
   "metadata": {},
   "outputs": [],
   "source": [
    "import torch"
   ]
  },
  {
   "cell_type": "code",
   "execution_count": 2,
   "metadata": {},
   "outputs": [],
   "source": [
    "import numpy"
   ]
  },
  {
   "cell_type": "code",
   "execution_count": 2,
   "metadata": {},
   "outputs": [
    {
     "name": "stdout",
     "output_type": "stream",
     "text": [
      "Thu Apr 11 19:53:41 2024       \n",
      "+---------------------------------------------------------------------------------------+\n",
      "| NVIDIA-SMI 546.33                 Driver Version: 546.33       CUDA Version: 12.3     |\n",
      "|-----------------------------------------+----------------------+----------------------+\n",
      "| GPU  Name                     TCC/WDDM  | Bus-Id        Disp.A | Volatile Uncorr. ECC |\n",
      "| Fan  Temp   Perf          Pwr:Usage/Cap |         Memory-Usage | GPU-Util  Compute M. |\n",
      "|                                         |                      |               MIG M. |\n",
      "|=========================================+======================+======================|\n",
      "|   0  NVIDIA GeForce GTX 1650 Ti   WDDM  | 00000000:01:00.0 Off |                  N/A |\n",
      "| N/A   44C    P8               5W /  50W |      0MiB /  4096MiB |      0%      Default |\n",
      "|                                         |                      |                  N/A |\n",
      "+-----------------------------------------+----------------------+----------------------+\n",
      "                                                                                         \n",
      "+---------------------------------------------------------------------------------------+\n",
      "| Processes:                                                                            |\n",
      "|  GPU   GI   CI        PID   Type   Process name                            GPU Memory |\n",
      "|        ID   ID                                                             Usage      |\n",
      "|=======================================================================================|\n",
      "|  No running processes found                                                           |\n",
      "+---------------------------------------------------------------------------------------+\n"
     ]
    }
   ],
   "source": [
    "!nvidia-smi"
   ]
  },
  {
   "cell_type": "code",
   "execution_count": 3,
   "metadata": {},
   "outputs": [
    {
     "data": {
      "text/plain": [
       "'2.2.2+cu118'"
      ]
     },
     "execution_count": 3,
     "metadata": {},
     "output_type": "execute_result"
    }
   ],
   "source": [
    "torch.__version__"
   ]
  },
  {
   "cell_type": "code",
   "execution_count": 13,
   "metadata": {},
   "outputs": [
    {
     "name": "stdout",
     "output_type": "stream",
     "text": [
      "tensor([[ 0.7044, -1.9895, -0.5713,  2.2074],\n",
      "        [-0.8689,  2.6444, -0.2166,  0.5793],\n",
      "        [-0.6603, -0.1301,  0.3483,  0.9142]])\n"
     ]
    }
   ],
   "source": [
    "tensor_2d=torch.randn(3,4)\n",
    "print(tensor_2d)"
   ]
  },
  {
   "cell_type": "code",
   "execution_count": 6,
   "metadata": {},
   "outputs": [
    {
     "name": "stdout",
     "output_type": "stream",
     "text": [
      "tensor([[[ 0.4980, -1.1213,  0.8681,  0.0690],\n",
      "         [ 0.1101, -0.0040, -0.3245,  0.8148],\n",
      "         [-1.2221, -0.9965, -0.6338, -0.4549],\n",
      "         [ 0.3434, -2.0014,  0.1015, -0.0488]],\n",
      "\n",
      "        [[ 0.7334,  0.2307, -1.4744,  0.2688],\n",
      "         [-1.3045, -2.6780, -0.7388, -0.2497],\n",
      "         [ 0.6863,  1.1443, -0.7264, -0.6090],\n",
      "         [ 0.0853,  0.9430,  0.2610,  1.3865]],\n",
      "\n",
      "        [[ 0.6747,  0.3728, -0.8328, -0.8154],\n",
      "         [ 0.0233, -0.7216, -0.4419, -0.5633],\n",
      "         [-0.1662,  0.4013, -0.6063,  0.9924],\n",
      "         [ 0.8392, -0.2432, -0.4333, -1.4673]]])\n"
     ]
    }
   ],
   "source": [
    "tensor_3d = torch.randn(3,4,4)\n",
    "print(tensor_3d)"
   ]
  },
  {
   "cell_type": "code",
   "execution_count": 7,
   "metadata": {},
   "outputs": [
    {
     "name": "stdout",
     "output_type": "stream",
     "text": [
      "tensor([[[[-1.1318,  1.2299],\n",
      "          [ 0.3406,  0.4462],\n",
      "          [-1.2184, -0.2115],\n",
      "          [-1.2673, -0.1468]],\n",
      "\n",
      "         [[ 0.1440, -0.4298],\n",
      "          [-0.4767, -0.3964],\n",
      "          [ 2.3003,  0.3592],\n",
      "          [ 0.2479, -1.0581]],\n",
      "\n",
      "         [[ 0.6854,  0.8617],\n",
      "          [ 1.3749,  0.4624],\n",
      "          [ 0.2430, -0.2467],\n",
      "          [-1.1528, -0.4697]],\n",
      "\n",
      "         [[-0.4898, -1.3465],\n",
      "          [-0.8691,  1.3375],\n",
      "          [-0.9554, -1.5040],\n",
      "          [ 1.0011, -0.4135]]],\n",
      "\n",
      "\n",
      "        [[[ 0.0802, -1.1999],\n",
      "          [-0.5889,  1.8381],\n",
      "          [-1.2614, -0.9306],\n",
      "          [ 1.0701,  2.2177]],\n",
      "\n",
      "         [[ 1.1098, -0.8051],\n",
      "          [-0.4834, -0.4614],\n",
      "          [ 0.1034, -0.9153],\n",
      "          [-1.1904,  0.0993]],\n",
      "\n",
      "         [[ 0.2549,  0.5328],\n",
      "          [ 0.4385,  1.5184],\n",
      "          [ 0.4287,  0.4585],\n",
      "          [-0.6122,  0.0415]],\n",
      "\n",
      "         [[ 1.0153, -1.4261],\n",
      "          [ 0.4283, -0.0098],\n",
      "          [-1.1445,  1.0852],\n",
      "          [-0.2240, -0.0523]]],\n",
      "\n",
      "\n",
      "        [[[ 0.7543, -1.4460],\n",
      "          [-0.6457, -0.6130],\n",
      "          [ 0.4668,  0.4623],\n",
      "          [ 0.5773, -0.3149]],\n",
      "\n",
      "         [[-1.1630, -0.9229],\n",
      "          [-0.3929, -1.2128],\n",
      "          [ 1.1006, -0.8619],\n",
      "          [ 0.4631, -0.0706]],\n",
      "\n",
      "         [[-1.7249,  1.1273],\n",
      "          [ 0.6948, -0.2757],\n",
      "          [ 1.4940,  1.2578],\n",
      "          [ 1.5108, -0.0651]],\n",
      "\n",
      "         [[ 0.9733, -0.5202],\n",
      "          [-0.7369,  0.9105],\n",
      "          [-0.0938, -1.1556],\n",
      "          [ 0.2061, -1.4575]]]])\n"
     ]
    }
   ],
   "source": [
    "tensor_4d = torch.randn(3,4,4,2)\n",
    "print(tensor_4d)"
   ]
  },
  {
   "cell_type": "code",
   "execution_count": 8,
   "metadata": {},
   "outputs": [
    {
     "data": {
      "text/plain": [
       "tensor([[0., 0., 0.],\n",
       "        [0., 0., 0.]])"
      ]
     },
     "execution_count": 8,
     "metadata": {},
     "output_type": "execute_result"
    }
   ],
   "source": [
    "torch.zeros(2,3)"
   ]
  },
  {
   "cell_type": "code",
   "execution_count": 10,
   "metadata": {},
   "outputs": [
    {
     "name": "stdout",
     "output_type": "stream",
     "text": [
      "[[0.15251461 0.61111841 0.77625736 0.37838442]\n",
      " [0.86042058 0.18644291 0.54722575 0.67117877]\n",
      " [0.12382732 0.35855724 0.40660435 0.22925934]]\n"
     ]
    }
   ],
   "source": [
    "#create tensors from numpy array\n",
    "np1=numpy.random.rand(3,4)\n",
    "print(np1)"
   ]
  },
  {
   "cell_type": "code",
   "execution_count": 11,
   "metadata": {},
   "outputs": [
    {
     "name": "stdout",
     "output_type": "stream",
     "text": [
      "tensor([[0.1525, 0.6111, 0.7763, 0.3784],\n",
      "        [0.8604, 0.1864, 0.5472, 0.6712],\n",
      "        [0.1238, 0.3586, 0.4066, 0.2293]], dtype=torch.float64)\n"
     ]
    }
   ],
   "source": [
    "np_to_ten=torch.tensor(np1)\n",
    "print(np_to_ten)"
   ]
  },
  {
   "cell_type": "code",
   "execution_count": 16,
   "metadata": {},
   "outputs": [
    {
     "data": {
      "text/plain": [
       "torch.float32"
      ]
     },
     "execution_count": 16,
     "metadata": {},
     "output_type": "execute_result"
    }
   ],
   "source": [
    "tensor_3d.dtype"
   ]
  },
  {
   "cell_type": "code",
   "execution_count": 17,
   "metadata": {},
   "outputs": [
    {
     "data": {
      "text/plain": [
       "False"
      ]
     },
     "execution_count": 17,
     "metadata": {},
     "output_type": "execute_result"
    }
   ],
   "source": [
    "tensor_3d.is_cuda"
   ]
  },
  {
   "cell_type": "markdown",
   "metadata": {},
   "source": [
    "create a tensor on gpu"
   ]
  },
  {
   "cell_type": "code",
   "execution_count": 18,
   "metadata": {},
   "outputs": [],
   "source": [
    "gpu=torch.device('cuda:0')"
   ]
  },
  {
   "cell_type": "code",
   "execution_count": 19,
   "metadata": {},
   "outputs": [],
   "source": [
    "tensor_gpu=torch.randn([3,4],dtype=torch.float64,device=gpu)"
   ]
  },
  {
   "cell_type": "code",
   "execution_count": 20,
   "metadata": {},
   "outputs": [
    {
     "data": {
      "text/plain": [
       "True"
      ]
     },
     "execution_count": 20,
     "metadata": {},
     "output_type": "execute_result"
    }
   ],
   "source": [
    "tensor_gpu.is_cuda"
   ]
  },
  {
   "cell_type": "code",
   "execution_count": null,
   "metadata": {},
   "outputs": [],
   "source": []
  }
 ],
 "metadata": {
  "kernelspec": {
   "display_name": "base",
   "language": "python",
   "name": "python3"
  },
  "language_info": {
   "codemirror_mode": {
    "name": "ipython",
    "version": 3
   },
   "file_extension": ".py",
   "mimetype": "text/x-python",
   "name": "python",
   "nbconvert_exporter": "python",
   "pygments_lexer": "ipython3",
   "version": "3.11.7"
  }
 },
 "nbformat": 4,
 "nbformat_minor": 2
}
